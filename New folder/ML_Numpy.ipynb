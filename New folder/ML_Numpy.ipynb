{
 "cells": [
  {
   "cell_type": "code",
   "execution_count": 1,
   "id": "3ca712f6",
   "metadata": {},
   "outputs": [
    {
     "ename": "SyntaxError",
     "evalue": "invalid syntax (4265594094.py, line 1)",
     "output_type": "error",
     "traceback": [
      "\u001b[1;36m  Cell \u001b[1;32mIn[1], line 1\u001b[1;36m\u001b[0m\n\u001b[1;33m    pip install numpy\u001b[0m\n\u001b[1;37m        ^\u001b[0m\n\u001b[1;31mSyntaxError\u001b[0m\u001b[1;31m:\u001b[0m invalid syntax\n"
     ]
    }
   ],
   "source": [
    "pip install numpy\n",
    "\n"
   ]
  },
  {
   "cell_type": "code",
   "execution_count": 2,
   "id": "fbdac4f0",
   "metadata": {},
   "outputs": [
    {
     "name": "stdout",
     "output_type": "stream",
     "text": [
      "[[[1 2]\n",
      "  [2 3]]\n",
      "\n",
      " [[5 6]\n",
      "  [6 7]]]\n"
     ]
    }
   ],
   "source": [
    "import numpy as np\n",
    "arr1=np.array([1,2,3])\n",
    "arr2=np.array(12)\n",
    "arr3=np.array([[[1,2],[2,3]],[[5,6],[6,7]]])\n",
    "print(arr3)"
   ]
  },
  {
   "cell_type": "code",
   "execution_count": 3,
   "id": "363c64fb",
   "metadata": {},
   "outputs": [
    {
     "name": "stdout",
     "output_type": "stream",
     "text": [
      "[[ 1 12 20]\n",
      " [ 8 15 24]\n",
      " [15 24 30]]\n"
     ]
    }
   ],
   "source": [
    "import numpy as np\n",
    "array1=np.array([[1,4,5],[2,3,4],[3,4,5]])\n",
    "array2=np.array([[1,3,4],[4,5,6],[5,6,6]])\n",
    "array4=np.multiply(array1,array2)\n",
    "print(array4)"
   ]
  },
  {
   "cell_type": "code",
   "execution_count": 4,
   "id": "c180c67f",
   "metadata": {},
   "outputs": [
    {
     "name": "stdout",
     "output_type": "stream",
     "text": [
      "[[False False  True]\n",
      " [False False  True]]\n"
     ]
    }
   ],
   "source": [
    "import numpy as np\n",
    "a=np.array([[4,5,np.nan],[2,3,np.nan]])\n",
    "res=np.isnan(a)\n",
    "print(res)"
   ]
  },
  {
   "cell_type": "code",
   "execution_count": 5,
   "id": "31f1c433",
   "metadata": {},
   "outputs": [
    {
     "name": "stdout",
     "output_type": "stream",
     "text": [
      "[False False False False  True  True]\n",
      "[ True  True  True  True  True False]\n"
     ]
    }
   ],
   "source": [
    "import numpy as np\n",
    "a1=np.array([1,2,3,4,5,6])\n",
    "a2=np.array([5,6,7,8,9,0])\n",
    "res=np.in1d(a1,a2)\n",
    "print(res)\n",
    "a3=np.array([1,2,3,4,5,6])\n",
    "a4=np.array([1,2,3,4,5,0])\n",
    "res2=np.in1d(a3,a4)\n",
    "print(res2)"
   ]
  },
  {
   "cell_type": "code",
   "execution_count": 6,
   "id": "25a8577c",
   "metadata": {},
   "outputs": [
    {
     "name": "stdout",
     "output_type": "stream",
     "text": [
      "The array is [2.5        2.50344828 2.50689655 2.51034483 2.5137931  2.51724138\n",
      " 2.52068966 2.52413793 2.52758621 2.53103448 2.53448276 2.53793103\n",
      " 2.54137931 2.54482759 2.54827586 2.55172414 2.55517241 2.55862069\n",
      " 2.56206897 2.56551724 2.56896552 2.57241379 2.57586207 2.57931034\n",
      " 2.58275862 2.5862069  2.58965517 2.59310345 2.59655172 2.6       ]\n"
     ]
    }
   ],
   "source": [
    "import numpy as np\n",
    "x=np.linspace(2.5,2.6,30)\n",
    "print(\"The array is\",x)"
   ]
  },
  {
   "cell_type": "code",
   "execution_count": 8,
   "id": "43c208eb",
   "metadata": {},
   "outputs": [],
   "source": [
    "import numpy as np\n",
    "a5=np.array([1,2,4,5,6])\n",
    "np.savetxt('test.txt',a5)"
   ]
  },
  {
   "cell_type": "code",
   "execution_count": null,
   "id": "1ad752f8",
   "metadata": {},
   "outputs": [],
   "source": []
  }
 ],
 "metadata": {
  "kernelspec": {
   "display_name": "Python 3 (ipykernel)",
   "language": "python",
   "name": "python3"
  },
  "language_info": {
   "codemirror_mode": {
    "name": "ipython",
    "version": 3
   },
   "file_extension": ".py",
   "mimetype": "text/x-python",
   "name": "python",
   "nbconvert_exporter": "python",
   "pygments_lexer": "ipython3",
   "version": "3.11.5"
  }
 },
 "nbformat": 4,
 "nbformat_minor": 5
}
